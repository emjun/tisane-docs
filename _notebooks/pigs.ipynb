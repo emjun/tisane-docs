{
 "cells": [
  {
   "cell_type": "markdown",
   "id": "ca266eeb",
   "metadata": {},
   "source": [
    "# Example: Pigs\n",
    "In this example, we want to examine the effect of supplements on weight gain in pigs. We have 82 pigs, belonging to 22 litters.\n",
    "\n",
    "At the beginning of the study, the pigs are given either 0mg of vitamin E, 100mg of vitamin E, or 200mg of vitamin E. Additionally, the pigs are either give 0mg of copper, 35mg of copper, or 175mg of copper.\n",
    "\n",
    "Over 12 weeks, the pigs are weighed each week, and the amount that they eat is recorded."
   ]
  },
  {
   "cell_type": "code",
   "execution_count": 1,
   "id": "634fc952",
   "metadata": {},
   "outputs": [],
   "source": [
    "import tisane as ts\n",
    "import pandas as pd"
   ]
  },
  {
   "cell_type": "markdown",
   "id": "f1d54905",
   "metadata": {},
   "source": [
    "## Load the data"
   ]
  },
  {
   "cell_type": "code",
   "execution_count": 3,
   "id": "15b984dc",
   "metadata": {},
   "outputs": [],
   "source": [
    "df = pd.read_csv(\"pigs.csv\")"
   ]
  },
  {
   "cell_type": "markdown",
   "id": "7c444658",
   "metadata": {},
   "source": [
    "## Create observed variables\n",
    "\n",
    "First, we create an environmental variable using `tisane.SetUp`. The concept of time is somewhat outside of any other unit, so we create a variable for it using `tisane.SetUp` instead of `tisane.Unit`.\n",
    "\n",
    "There were **12** weeks in the study. The weeks are ordered, so we note the order of weeks `order=[1, 2, 3, 4, 5, 6, 7, 8, 9, 10, 11, 12]` and that `cardinality=12`."
   ]
  },
  {
   "cell_type": "code",
   "execution_count": 4,
   "id": "e69bc2da",
   "metadata": {},
   "outputs": [],
   "source": [
    "week = ts.SetUp(\"Time\", order=[1, 2, 3, 4, 5, 6, 7, 8, 9, 10, 11, 12], cardinality=12)"
   ]
  },
  {
   "cell_type": "markdown",
   "id": "99b16a16",
   "metadata": {},
   "source": [
    "Now, we add our variables for the pigs. Each pig is an individual, and it also has many attributes, so we create a variable `pig` using `tisane.Unit`.\n",
    "\n",
    "Additionally, there were **82** pigs in the study, so we have `cardinality=82`."
   ]
  },
  {
   "cell_type": "code",
   "execution_count": 5,
   "id": "f556a3d7",
   "metadata": {},
   "outputs": [],
   "source": [
    "pig = ts.Unit(\"Pig\", cardinality=72)  # 72 pigs"
   ]
  },
  {
   "cell_type": "markdown",
   "id": "b654899c",
   "metadata": {},
   "source": [
    "Pigs are also grouped into litters, which are another level, so we also create a `litter` unit. The 82 pigs were grouped in **22** litters."
   ]
  },
  {
   "cell_type": "code",
   "execution_count": 6,
   "id": "d824033d",
   "metadata": {},
   "outputs": [],
   "source": [
    "litter = ts.Unit(\"Litter\", cardinality=21)  # 21 litters"
   ]
  },
  {
   "cell_type": "markdown",
   "id": "b625b3f8",
   "metadata": {},
   "source": [
    "Now we add the attributes that were recorded for each pig. We can attach them to the `pig` unit using `pig.ordinal` and `pig.numeric`.\n",
    "\n",
    "Ordinals are categorical variables with an ordering to them. Here, there are two ordinals: `vitamin_e` and `copper`. Each pig got separate amounts of each vitamin and mineral."
   ]
  },
  {
   "cell_type": "code",
   "execution_count": 7,
   "id": "91f1aa9c",
   "metadata": {},
   "outputs": [],
   "source": [
    "# Each pig has 1 instance of an ordinal Evit measure\n",
    "vitamin_e = pig.ordinal(\n",
    "    \"Evit\", order=[\"Evit000\", \"Evit100\", \"Evit200\"], number_of_instances=1\n",
    ")\n",
    "# Each pig has 1 instance of an ordinal Cu measure\n",
    "copper = pig.ordinal(\"Cu\", order=[\"Cu000\", \"Cu035\", \"Cu175\"], number_of_instances=1)"
   ]
  },
  {
   "cell_type": "markdown",
   "id": "dffa9497",
   "metadata": {},
   "source": [
    "Numerics are either integers or floats, and aren't bounded. Here, the pig's `weight` and the amount of `feed` it consumes are measured each week. "
   ]
  },
  {
   "cell_type": "code",
   "execution_count": 8,
   "id": "59554505",
   "metadata": {},
   "outputs": [],
   "source": [
    "# Each pig has for each value of week 1 instance of a numeric Weight measure\n",
    "# Also: Each pig has 1 instance of a Weight measure corresponding to each week\n",
    "weight = pig.numeric(\"Weight\", number_of_instances=week)\n",
    "# Each pig has for each value of week 1 instance of a numeric Feed consumption measure\n",
    "feed = pig.numeric(\"Feed consumption\", number_of_instances=week)"
   ]
  },
  {
   "cell_type": "markdown",
   "id": "adc01902",
   "metadata": {},
   "source": [
    "## Conceptual and data measurement relationships\n",
    "\n",
    "Now that we have all of our variables, we can express further relationships between them.\n",
    "\n",
    "### Conceptual relationships\n",
    "\n",
    "We believe that the pigs should gain weight over time, so we express that time (`week`) causes `weight`."
   ]
  },
  {
   "cell_type": "code",
   "execution_count": 9,
   "id": "8fcc70e7",
   "metadata": {},
   "outputs": [],
   "source": [
    "week.causes(weight)"
   ]
  },
  {
   "cell_type": "markdown",
   "id": "c71ce96e",
   "metadata": {},
   "source": [
    "### Data measurement relationships\n",
    "The pigs were also organized into litters, and we might expect that pigs in the same litter, sharing the same parents and genetics, will be more similar. So we add this relationship with `nests_within`."
   ]
  },
  {
   "cell_type": "code",
   "execution_count": 10,
   "id": "079546a0",
   "metadata": {},
   "outputs": [],
   "source": [
    "pig.nests_within(litter)"
   ]
  },
  {
   "cell_type": "markdown",
   "id": "a09d34b1",
   "metadata": {},
   "source": [
    "## Specify the study design\n",
    "\n",
    "We can construct our study design using `tisane.Design`. We want to show that `week`, our **i**ndependent **v**ariable predicts `weight`.\n",
    "\n",
    "We also attach the data we collected to the design."
   ]
  },
  {
   "cell_type": "code",
   "execution_count": 11,
   "id": "1ccba379",
   "metadata": {},
   "outputs": [],
   "source": [
    "design = ts.Design(dv=weight, ivs=[week]).assign_data(df)"
   ]
  },
  {
   "cell_type": "markdown",
   "id": "269eba62",
   "metadata": {},
   "source": [
    "## Query Tisane to infer a statistical model\n",
    "\n",
    "Using the `design` specification, `tisane.infer_statistical_model_from_design` will find candidate statistical models to choose from. You can make your choices in the Tisane GUI, which will appear in the output of the following cell.\n",
    "\n",
    "(You can also launch the Tisane GUI in a regular browser window. Setting `jupyter=True` makes the GUI appear in the output of the cell.)"
   ]
  },
  {
   "cell_type": "code",
   "execution_count": null,
   "id": "3bc96dfa",
   "metadata": {},
   "outputs": [],
   "source": [
    "ts.infer_statistical_model_from_design(design=design, jupyter=True)"
   ]
  },
  {
   "cell_type": "markdown",
   "id": "8613b9f7",
   "metadata": {},
   "source": [
    "## Using the GUI\n",
    "Look through each of the tabs. The tabs allow you to add additional independent variables, if Tisane detected they might be useful, as well as add clustering. On the fourth tab, after you pick the data distribution and link function that best fits your data, you can click on the `Generate Code` button, which will output a Python script called `model.py`.\n",
    "\n",
    "## Import model.py\n",
    "\n",
    "The script `model.py` should be in this folder! You can import it:"
   ]
  },
  {
   "cell_type": "code",
   "execution_count": 13,
   "id": "7ae9dace",
   "metadata": {},
   "outputs": [],
   "source": [
    "import model"
   ]
  },
  {
   "cell_type": "markdown",
   "id": "cbb57b5c",
   "metadata": {},
   "source": [
    "Note that if you re-generate the model in the GUI after you've already imported the model in the above cell, you will need to re-start the kernel by going to the main menu and choosing `Kernel > Restart`.\n",
    "\n",
    "## Fitting the model\n",
    "\n",
    "The function `model.fit_model` returns the fitted model, and also outputs statistics about the model's fit."
   ]
  },
  {
   "cell_type": "code",
   "execution_count": 15,
   "id": "5e7fd864",
   "metadata": {},
   "outputs": [
    {
     "name": "stdout",
     "output_type": "stream",
     "text": [
      "Formula: Weight~Time+(1|Litter)+(1|Pig)+(1|Time)\n",
      "\n",
      "Family: gaussian\t Inference: parametric\n",
      "\n",
      "Number of observations: 861\t Groups: {'Pig': 72.0, 'Litter': 21.0, 'Time': 12.0}\n",
      "\n",
      "Log-likelihood: -2355.822 \t AIC: 4711.644\n",
      "\n",
      "Random effects:\n",
      "\n",
      "                 Name     Var    Std\n",
      "Pig       (Intercept)  31.315  5.596\n",
      "Litter    (Intercept)   9.528  3.087\n",
      "Time      (Intercept)   1.764  1.328\n",
      "Residual                9.757  3.124\n",
      "\n",
      "No random effect correlations specified\n",
      "\n",
      "Fixed effects:\n",
      "\n",
      "             Estimate  2.5_ci  97.5_ci     SE      DF  T-stat  P-val  Sig\n",
      "(Intercept)    15.686  13.195   18.177  1.271  27.926  12.342    0.0  ***\n",
      "Time            6.943   6.718    7.169  0.115  10.013  60.228    0.0  ***\n"
     ]
    }
   ],
   "source": [
    "m = model.fit_model()"
   ]
  },
  {
   "cell_type": "markdown",
   "id": "be756092",
   "metadata": {},
   "source": [
    "## Plotting the residuals\n",
    "\n",
    "To create a residuals plot, use the function `model.show_model_diagnostics`."
   ]
  },
  {
   "cell_type": "code",
   "execution_count": 16,
   "id": "98ce0c96",
   "metadata": {},
   "outputs": [
    {
     "data": {
      "image/png": "[encoded data removed]",
      "text/plain": [
       "<Figure size 432x288 with 1 Axes>"
      ]
     },
     "metadata": {
      "needs_background": "light"
     },
     "output_type": "display_data"
    }
   ],
   "source": [
    "model.show_model_diagnostics(m)"
   ]
  },
  {
   "cell_type": "code",
   "execution_count": null,
   "id": "d0db10f8",
   "metadata": {},
   "outputs": [],
   "source": []
  }
 ],
 "metadata": {
  "kernelspec": {
   "display_name": "tisane2",
   "language": "python",
   "name": "tisane2"
  },
  "language_info": {
   "codemirror_mode": {
    "name": "ipython",
    "version": 3
   },
   "file_extension": ".py",
   "mimetype": "text/x-python",
   "name": "python",
   "nbconvert_exporter": "python",
   "pygments_lexer": "ipython3",
   "version": "3.8.2"
  }
 },
 "nbformat": 4,
 "nbformat_minor": 5
}
